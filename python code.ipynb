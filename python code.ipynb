{
 "cells": [
  {
   "cell_type": "markdown",
   "id": "d54ca79d",
   "metadata": {},
   "source": [
    "<H1>PYTHON CODE</H1>\n",
    "<H3>REVERSING THE WORDS AND THE WORD THAT HAVE OCCURED MOST OF THE TIME</H3>"
   ]
  },
  {
   "cell_type": "code",
   "execution_count": 6,
   "id": "0beb34b6",
   "metadata": {},
   "outputs": [
    {
     "name": "stdout",
     "output_type": "stream",
     "text": [
      "This declaration represents a political commitment among declaration partners to advance a positive vision for the Internet in this era of a united europe\n",
      "\n",
      "\n",
      "Europe united a of era this in internet the for vision positive a advance to partners declaration among commitment political a represents declaration this\n",
      "a : 3 times\n",
      "this : 2 times\n"
     ]
    }
   ],
   "source": [
    "import re\n",
    "a=input()\n",
    "print(\"\\n\")\n",
    "p=a.lower()\n",
    "s=p.split()\n",
    "s=list(reversed(s))\n",
    "r=(\" \".join(s))\n",
    "print(r.capitalize())\n",
    "word=[\"a\",\"this\"]\n",
    "wordcount=dict((x,0) for x in word)\n",
    "for w in re.findall(\"\\w+\", p):\n",
    "    if w in wordcount:\n",
    "        wordcount[w] += 1\n",
    "for key,value in wordcount.items():\n",
    "    print(key,\":\", value, \"times\")\n",
    "#SAMPLE INPUT:This declaration represents a political commitment among declaration partners to advance a positive vision for the Internet in this era of a united europe"
   ]
  },
  {
   "cell_type": "code",
   "execution_count": null,
   "id": "772ac320",
   "metadata": {},
   "outputs": [],
   "source": []
  }
 ],
 "metadata": {
  "kernelspec": {
   "display_name": "Python 3 (ipykernel)",
   "language": "python",
   "name": "python3"
  },
  "language_info": {
   "codemirror_mode": {
    "name": "ipython",
    "version": 3
   },
   "file_extension": ".py",
   "mimetype": "text/x-python",
   "name": "python",
   "nbconvert_exporter": "python",
   "pygments_lexer": "ipython3",
   "version": "3.9.12"
  }
 },
 "nbformat": 4,
 "nbformat_minor": 5
}
